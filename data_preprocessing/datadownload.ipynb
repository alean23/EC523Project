{
 "cells": [
  {
   "cell_type": "code",
   "execution_count": 5,
   "metadata": {},
   "outputs": [
    {
     "name": "stdout",
     "output_type": "stream",
     "text": [
      "Download completed successfully!\n"
     ]
    }
   ],
   "source": [
    "import requests\n",
    "\n",
    "# URL of the file you want to download\n",
    "url = 'https://www.kaggle.com/api/v1/datasets/download/hugomathien/soccer'\n",
    "\n",
    "# Local path where you want to save the file\n",
    "file_path = 'soccer.zip'\n",
    "\n",
    "# Perform the HTTP request\n",
    "response = requests.get(url, allow_redirects=True)\n",
    "\n",
    "# Check if the request was successful\n",
    "if response.status_code == 200:\n",
    "    # Write the content of the response to a local file\n",
    "    with open(file_path, 'wb') as file:\n",
    "        file.write(response.content)\n",
    "    print(\"Download completed successfully!\")\n",
    "else:\n",
    "    print(\"Failed to download the file. Status code:\", response.status_code)\n",
    "\n"
   ]
  },
  {
   "cell_type": "code",
   "execution_count": 1,
   "metadata": {},
   "outputs": [
    {
     "name": "stdout",
     "output_type": "stream",
     "text": [
      "Files extracted successfully!\n"
     ]
    }
   ],
   "source": [
    "import zipfile\n",
    "\n",
    "# Path to the ZIP file\n",
    "zip_path = 'soccer.zip'\n",
    "# Directory where the contents will be extracted\n",
    "extract_to = 'extracted_files'\n",
    "\n",
    "# Create a ZipFile object\n",
    "with zipfile.ZipFile(zip_path, 'r') as zip_ref:\n",
    "    # Extract all the contents into the directory\n",
    "    zip_ref.extractall(extract_to)\n",
    "\n",
    "print(\"Files extracted successfully!\")"
   ]
  },
  {
   "cell_type": "code",
   "execution_count": 4,
   "metadata": {},
   "outputs": [],
   "source": [
    "import sqlite3\n",
    "import csv\n",
    "\n",
    "# Connect to your SQLite database\n",
    "conn = sqlite3.connect('database.sqlite')\n",
    "cursor = conn.cursor()\n",
    "\n",
    "# Open a new CSV file\n",
    "with open('matches.csv', 'w', newline='') as file:\n",
    "    writer = csv.writer(file)\n",
    "\n",
    "    # Select data from the table you want to export\n",
    "    cursor.execute('SELECT * FROM Match')\n",
    "    # Write the headers to the CSV file\n",
    "    writer.writerow([i[0] for i in cursor.description])\n",
    "    # Write data to the CSV file\n",
    "    writer.writerows(cursor)\n",
    "\n",
    "# Close the connection to the database\n",
    "conn.close()"
   ]
  },
  {
   "cell_type": "code",
   "execution_count": 5,
   "metadata": {},
   "outputs": [],
   "source": [
    "import sqlite3\n",
    "import csv\n",
    "\n",
    "# Connect to your SQLite database\n",
    "conn = sqlite3.connect('database.sqlite')\n",
    "cursor = conn.cursor()\n",
    "\n",
    "# Open a new CSV file\n",
    "with open('team.csv', 'w', newline='') as file:\n",
    "    writer = csv.writer(file)\n",
    "\n",
    "    # Select data from the table you want to export\n",
    "    cursor.execute('SELECT * FROM Team')\n",
    "    # Write the headers to the CSV file\n",
    "    writer.writerow([i[0] for i in cursor.description])\n",
    "    # Write data to the CSV file\n",
    "    writer.writerows(cursor)\n",
    "\n",
    "# Close the connection to the database\n",
    "conn.close()"
   ]
  },
  {
   "cell_type": "code",
   "execution_count": 6,
   "metadata": {},
   "outputs": [],
   "source": [
    "import sqlite3\n",
    "import csv\n",
    "\n",
    "# Connect to your SQLite database\n",
    "conn = sqlite3.connect('database.sqlite')\n",
    "cursor = conn.cursor()\n",
    "\n",
    "# Open a new CSV file\n",
    "with open('league.csv', 'w', newline='') as file:\n",
    "    writer = csv.writer(file)\n",
    "\n",
    "    # Select data from the table you want to export\n",
    "    cursor.execute('SELECT * FROM League')\n",
    "    # Write the headers to the CSV file\n",
    "    writer.writerow([i[0] for i in cursor.description])\n",
    "    # Write data to the CSV file\n",
    "    writer.writerows(cursor)\n",
    "\n",
    "# Close the connection to the database\n",
    "conn.close()"
   ]
  },
  {
   "cell_type": "code",
   "execution_count": 7,
   "metadata": {},
   "outputs": [],
   "source": [
    "import sqlite3\n",
    "import csv\n",
    "#Real Madrid Only\n",
    "# Connect to your SQLite database\n",
    "conn = sqlite3.connect('database.sqlite')\n",
    "cursor = conn.cursor()\n",
    "\n",
    "# Open a new CSV file\n",
    "with open('matches.csv', 'w', newline='') as file:\n",
    "    writer = csv.writer(file)\n",
    "\n",
    "    # Select data from the table you want to export\n",
    "    cursor.execute('SELECT * FROM Match WHERE home_team_api_id = 8633 OR away_team_api_id = 8633')\n",
    "    # Write the headers to the CSV file\n",
    "    writer.writerow([i[0] for i in cursor.description])\n",
    "    # Write data to the CSV file\n",
    "    writer.writerows(cursor)\n",
    "\n",
    "# Close the connection to the database\n",
    "conn.close()"
   ]
  },
  {
   "cell_type": "code",
   "execution_count": 8,
   "metadata": {},
   "outputs": [],
   "source": [
    "import sqlite3\n",
    "import csv\n",
    "\n",
    "# Connect to your SQLite database\n",
    "conn = sqlite3.connect('database.sqlite')\n",
    "cursor = conn.cursor()\n",
    "\n",
    "# Open a new CSV file\n",
    "with open('player.csv', 'w', newline='') as file:\n",
    "    writer = csv.writer(file)\n",
    "\n",
    "    # Select data from the table you want to export\n",
    "    cursor.execute('SELECT * FROM Player')\n",
    "    # Write the headers to the CSV file\n",
    "    writer.writerow([i[0] for i in cursor.description])\n",
    "    # Write data to the CSV file\n",
    "    writer.writerows(cursor)\n",
    "\n",
    "# Close the connection to the database\n",
    "conn.close()"
   ]
  },
  {
   "cell_type": "code",
   "execution_count": 9,
   "metadata": {},
   "outputs": [],
   "source": [
    "import sqlite3\n",
    "import csv\n",
    "\n",
    "# Connect to your SQLite database\n",
    "conn = sqlite3.connect('database.sqlite')\n",
    "cursor = conn.cursor()\n",
    "\n",
    "# Open a new CSV file\n",
    "with open('player_attributes.csv', 'w', newline='') as file:\n",
    "    writer = csv.writer(file)\n",
    "\n",
    "    # Select data from the table you want to export\n",
    "    cursor.execute('SELECT * FROM Player_Attributes')\n",
    "    # Write the headers to the CSV file\n",
    "    writer.writerow([i[0] for i in cursor.description])\n",
    "    # Write data to the CSV file\n",
    "    writer.writerows(cursor)\n",
    "\n",
    "# Close the connection to the database\n",
    "conn.close()"
   ]
  }
 ],
 "metadata": {
  "kernelspec": {
   "display_name": "Python 3.10.6 64-bit",
   "language": "python",
   "name": "python3"
  },
  "language_info": {
   "codemirror_mode": {
    "name": "ipython",
    "version": 3
   },
   "file_extension": ".py",
   "mimetype": "text/x-python",
   "name": "python",
   "nbconvert_exporter": "python",
   "pygments_lexer": "ipython3",
   "version": "3.10.6"
  },
  "orig_nbformat": 4,
  "vscode": {
   "interpreter": {
    "hash": "7e1998ff7f8aa20ada591c520b972326324e5ea05489af9e422744c7c09f6dad"
   }
  }
 },
 "nbformat": 4,
 "nbformat_minor": 2
}
