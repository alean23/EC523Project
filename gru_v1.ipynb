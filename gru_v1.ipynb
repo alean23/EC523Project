{
 "cells": [
  {
   "cell_type": "code",
   "execution_count": null,
   "metadata": {},
   "outputs": [],
   "source": [
    "import pandas as pd\n",
    "from sklearn.model_selection import train_test_split\n",
    "from sklearn.preprocessing import StandardScaler\n",
    "import tensorflow as tf\n",
    "from bisect import bisect_left\n",
    "from tensorflow.keras import regularizers\n",
    "from tensorflow.keras.layers import LeakyReLU, Dropout, BatchNormalization, Softmax\n",
    "import numpy as np\n",
    "from sklearn.metrics import mean_absolute_error, mean_squared_error\n",
    "from tensorflow.keras.callbacks import EarlyStopping\n",
    "from tensorflow.keras.callbacks import ReduceLROnPlateau\n",
    "from tensorflow.keras.utils import to_categorical\n",
    "from tensorflow.keras.preprocessing.text import Tokenizer"
   ]
  },
  {
   "cell_type": "code",
   "execution_count": null,
   "metadata": {},
   "outputs": [
    {
     "name": "stdout",
     "output_type": "stream",
     "text": [
      "Features shape:  (304, 78)\n",
      "Target shape:  (304, 3)\n",
      "X shape (samples, timesteps, features): (299, 5, 78)\n",
      "y shape (samples, 3): (299, 3)\n"
     ]
    }
   ],
   "source": [
    "# Load data\n",
    "data = pd.read_csv('final_matches_with_records.csv')\n",
    "data = data.fillna(0)  # Assign back\n",
    "\n",
    "player_name_columns = [col for col in data.columns if 'player' in col and 'name' in col]\n",
    "tokenizer = Tokenizer(filters='', split='\\t')\n",
    "\n",
    "all_names = []\n",
    "for col in player_name_columns:\n",
    "    all_names.extend(data[col].fillna('').astype(str).values)\n",
    "\n",
    "tokenizer.fit_on_texts(all_names)\n",
    "\n",
    "for col in player_name_columns:\n",
    "    data[col] = data[col].fillna('').astype(str).map(lambda name: tokenizer.texts_to_sequences([name])[0][0] if name else 0)\n",
    "\n",
    "\n",
    "# Sort by date\n",
    "data = data.sort_values(by='date')\n",
    "\n",
    "feature_columns = ['home_away_indicator', 'real_api_id', 'other_team_id', 'real_winprob', 'tie_prob', 'other_winprob',\n",
    "    'real_player_1_name', 'real_player_1_rating', 'real_player_1_potential', 'real_player_2_name', 'real_player_2_rating', 'real_player_2_potential',\n",
    "    'real_player_3_name', 'real_player_3_rating', 'real_player_3_potential', 'real_player_4_name', 'real_player_4_rating', 'real_player_4_potential',\n",
    "    'real_player_5_name', 'real_player_5_rating', 'real_player_5_potential', 'real_player_6_name', 'real_player_6_rating', 'real_player_6_potential',\n",
    "    'real_player_7_name', 'real_player_7_rating', 'real_player_7_potential', 'real_player_8_name', 'real_player_8_rating', 'real_player_8_potential',\n",
    "    'real_player_9_name', 'real_player_9_rating', 'real_player_9_potential', 'real_player_10_name', 'real_player_10_rating', 'real_player_10_potential',\n",
    "    'real_player_11_name', 'real_player_11_rating', 'real_player_11_potential', 'other_player_1_name', 'other_player_1_rating', 'other_player_1_potential',\n",
    "    'other_player_2_name', 'other_player_2_rating', 'other_player_2_potential', 'other_player_3_name', 'other_player_3_rating', 'other_player_3_potential',\n",
    "    'other_player_4_name', 'other_player_4_rating', 'other_player_4_potential', 'other_player_5_name', 'other_player_5_rating', 'other_player_5_potential',\n",
    "    'other_player_6_name', 'other_player_6_rating', 'other_player_6_potential', 'other_player_7_name', 'other_player_7_rating', 'other_player_7_potential',\n",
    "    'other_player_8_name', 'other_player_8_rating', 'other_player_8_potential', 'other_player_9_name', 'other_player_9_rating', 'other_player_9_potential',\n",
    "    'other_player_10_name', 'other_player_10_rating', 'other_player_10_potential', 'other_player_11_name', 'other_player_11_rating', 'other_player_11_potential',\n",
    "    'real_wins', 'real_draws', 'real_losses', 'other_wins', 'other_draws', 'other_losses']\n",
    "\n",
    "features = data[feature_columns]\n",
    "label = to_categorical(data['result'], num_classes=3)\n",
    "\n",
    "print(\"Features shape: \", features.shape)\n",
    "print(\"Target shape: \", label.shape)\n",
    "\n",
    "# Create sequences\n",
    "sequence_length = 5\n",
    "X_sequences = []\n",
    "y_labels = []\n",
    "\n",
    "for i in range(len(features) - sequence_length):\n",
    "    sequence = features.iloc[i:i + sequence_length].values\n",
    "    y = label[i + sequence_length]\n",
    "    X_sequences.append(sequence)\n",
    "    y_labels.append(y)\n",
    "\n",
    "X = np.array(X_sequences)\n",
    "y = np.array(y_labels)\n",
    "\n",
    "print(\"X shape (samples, timesteps, features):\", X.shape)\n",
    "print(\"y shape (samples, 3):\", y.shape)\n"
   ]
  },
  {
   "cell_type": "code",
   "execution_count": null,
   "metadata": {},
   "outputs": [
    {
     "name": "stdout",
     "output_type": "stream",
     "text": [
      "Train shape: (239, 5, 78) (239, 3)\n",
      "Test shape: (60, 5, 78) (60, 3)\n"
     ]
    }
   ],
   "source": [
    "X_train, X_test, y_train, y_test = train_test_split(X, y, test_size=0.2, random_state=42)\n",
    "\n",
    "print(\"Train shape:\", X_train.shape, y_train.shape)\n",
    "print(\"Test shape:\", X_test.shape, y_test.shape)\n"
   ]
  },
  {
   "cell_type": "code",
   "execution_count": 11,
   "metadata": {},
   "outputs": [],
   "source": [
    "# Flatten sequences for scaling\n",
    "num_train, timesteps, num_features = X_train.shape\n",
    "num_test = X_test.shape[0]\n",
    "\n",
    "X_train_flat = X_train.reshape(-1, num_features)\n",
    "X_test_flat = X_test.reshape(-1, num_features)\n",
    "\n",
    "# Standardize\n",
    "scaler = StandardScaler()\n",
    "X_train_scaled = scaler.fit_transform(X_train_flat)\n",
    "X_test_scaled = scaler.transform(X_test_flat)\n",
    "\n",
    "# Reshape back to (samples, timesteps, features)\n",
    "X_train = X_train_scaled.reshape(num_train, timesteps, num_features)\n",
    "X_test = X_test_scaled.reshape(num_test, timesteps, num_features)\n"
   ]
  },
  {
   "cell_type": "code",
   "execution_count": 12,
   "metadata": {},
   "outputs": [],
   "source": [
    "from tensorflow.keras.models import Sequential\n",
    "from tensorflow.keras.layers import GRU, Dense, Dropout\n",
    "from tensorflow.keras.optimizers import Adam\n",
    "from tensorflow.keras.callbacks import EarlyStopping"
   ]
  },
  {
   "cell_type": "code",
   "execution_count": null,
   "metadata": {},
   "outputs": [
    {
     "name": "stdout",
     "output_type": "stream",
     "text": [
      "Epoch 1/100\n"
     ]
    },
    {
     "name": "stderr",
     "output_type": "stream",
     "text": [
      "C:\\Users\\benja\\AppData\\Roaming\\Python\\Python312\\site-packages\\keras\\src\\layers\\rnn\\rnn.py:200: UserWarning: Do not pass an `input_shape`/`input_dim` argument to a layer. When using Sequential models, prefer using an `Input(shape)` object as the first layer in the model instead.\n",
      "  super().__init__(**kwargs)\n"
     ]
    },
    {
     "name": "stdout",
     "output_type": "stream",
     "text": [
      "\u001b[1m12/12\u001b[0m \u001b[32m━━━━━━━━━━━━━━━━━━━━\u001b[0m\u001b[37m\u001b[0m \u001b[1m2s\u001b[0m 27ms/step - accuracy: 0.4435 - loss: 1.0296 - val_accuracy: 0.6875 - val_loss: 0.9396\n",
      "Epoch 2/100\n",
      "\u001b[1m12/12\u001b[0m \u001b[32m━━━━━━━━━━━━━━━━━━━━\u001b[0m\u001b[37m\u001b[0m \u001b[1m0s\u001b[0m 9ms/step - accuracy: 0.6811 - loss: 0.8111 - val_accuracy: 0.7500 - val_loss: 0.8628\n",
      "Epoch 3/100\n",
      "\u001b[1m12/12\u001b[0m \u001b[32m━━━━━━━━━━━━━━━━━━━━\u001b[0m\u001b[37m\u001b[0m \u001b[1m0s\u001b[0m 9ms/step - accuracy: 0.6641 - loss: 0.7987 - val_accuracy: 0.7500 - val_loss: 0.8238\n",
      "Epoch 4/100\n",
      "\u001b[1m12/12\u001b[0m \u001b[32m━━━━━━━━━━━━━━━━━━━━\u001b[0m\u001b[37m\u001b[0m \u001b[1m0s\u001b[0m 11ms/step - accuracy: 0.7373 - loss: 0.7138 - val_accuracy: 0.7500 - val_loss: 0.8163\n",
      "Epoch 5/100\n",
      "\u001b[1m12/12\u001b[0m \u001b[32m━━━━━━━━━━━━━━━━━━━━\u001b[0m\u001b[37m\u001b[0m \u001b[1m0s\u001b[0m 10ms/step - accuracy: 0.7839 - loss: 0.6533 - val_accuracy: 0.7708 - val_loss: 0.8206\n",
      "Epoch 6/100\n",
      "\u001b[1m12/12\u001b[0m \u001b[32m━━━━━━━━━━━━━━━━━━━━\u001b[0m\u001b[37m\u001b[0m \u001b[1m0s\u001b[0m 10ms/step - accuracy: 0.7803 - loss: 0.5958 - val_accuracy: 0.7708 - val_loss: 0.8276\n",
      "Epoch 7/100\n",
      "\u001b[1m12/12\u001b[0m \u001b[32m━━━━━━━━━━━━━━━━━━━━\u001b[0m\u001b[37m\u001b[0m \u001b[1m0s\u001b[0m 10ms/step - accuracy: 0.7620 - loss: 0.5942 - val_accuracy: 0.7708 - val_loss: 0.8318\n",
      "Epoch 8/100\n",
      "\u001b[1m12/12\u001b[0m \u001b[32m━━━━━━━━━━━━━━━━━━━━\u001b[0m\u001b[37m\u001b[0m \u001b[1m0s\u001b[0m 10ms/step - accuracy: 0.7989 - loss: 0.4986 - val_accuracy: 0.7708 - val_loss: 0.8411\n",
      "Epoch 9/100\n",
      "\u001b[1m12/12\u001b[0m \u001b[32m━━━━━━━━━━━━━━━━━━━━\u001b[0m\u001b[37m\u001b[0m \u001b[1m0s\u001b[0m 10ms/step - accuracy: 0.7906 - loss: 0.4996 - val_accuracy: 0.7708 - val_loss: 0.8558\n",
      "Epoch 10/100\n",
      "\u001b[1m12/12\u001b[0m \u001b[32m━━━━━━━━━━━━━━━━━━━━\u001b[0m\u001b[37m\u001b[0m \u001b[1m0s\u001b[0m 11ms/step - accuracy: 0.8653 - loss: 0.4001 - val_accuracy: 0.7708 - val_loss: 0.8721\n",
      "Epoch 11/100\n",
      "\u001b[1m12/12\u001b[0m \u001b[32m━━━━━━━━━━━━━━━━━━━━\u001b[0m\u001b[37m\u001b[0m \u001b[1m0s\u001b[0m 9ms/step - accuracy: 0.8105 - loss: 0.4554 - val_accuracy: 0.7708 - val_loss: 0.8865\n",
      "Epoch 12/100\n",
      "\u001b[1m12/12\u001b[0m \u001b[32m━━━━━━━━━━━━━━━━━━━━\u001b[0m\u001b[37m\u001b[0m \u001b[1m0s\u001b[0m 9ms/step - accuracy: 0.8341 - loss: 0.3910 - val_accuracy: 0.7708 - val_loss: 0.9058\n",
      "Epoch 13/100\n",
      "\u001b[1m12/12\u001b[0m \u001b[32m━━━━━━━━━━━━━━━━━━━━\u001b[0m\u001b[37m\u001b[0m \u001b[1m0s\u001b[0m 10ms/step - accuracy: 0.8255 - loss: 0.3800 - val_accuracy: 0.7500 - val_loss: 0.9268\n",
      "Epoch 14/100\n",
      "\u001b[1m12/12\u001b[0m \u001b[32m━━━━━━━━━━━━━━━━━━━━\u001b[0m\u001b[37m\u001b[0m \u001b[1m0s\u001b[0m 9ms/step - accuracy: 0.9186 - loss: 0.3118 - val_accuracy: 0.7500 - val_loss: 0.9495\n"
     ]
    }
   ],
   "source": [
    "model = Sequential([\n",
    "    GRU(64, input_shape=(X_train.shape[1], X_train.shape[2]), return_sequences=False),\n",
    "    Dropout(0.3),\n",
    "    Dense(32, activation='relu'),\n",
    "    Dropout(0.3),\n",
    "    Dense(3, activation='softmax')\n",
    "])\n",
    "\n",
    "model.compile(optimizer=Adam(learning_rate=0.001), loss='categorical_crossentropy', metrics=['accuracy'])\n",
    "\n",
    "early_stop = EarlyStopping(monitor='val_loss', patience=10, restore_best_weights=True)\n",
    "\n",
    "history = model.fit(\n",
    "    X_train, y_train,\n",
    "    validation_split=0.2,\n",
    "    epochs=100,\n",
    "    batch_size=16,\n",
    "    callbacks=[early_stop],\n",
    "    verbose=1\n",
    ")"
   ]
  },
  {
   "cell_type": "code",
   "execution_count": 14,
   "metadata": {},
   "outputs": [
    {
     "name": "stdout",
     "output_type": "stream",
     "text": [
      "Test Accuracy: 0.6833\n"
     ]
    }
   ],
   "source": [
    "test_loss, test_acc = model.evaluate(X_test, y_test, verbose=0)\n",
    "print(f\"Test Accuracy: {test_acc:.4f}\")"
   ]
  },
  {
   "cell_type": "code",
   "execution_count": 15,
   "metadata": {},
   "outputs": [
    {
     "data": {
      "image/png": "[encoded data removed]",
      "text/plain": [
       "<Figure size 640x480 with 1 Axes>"
      ]
     },
     "metadata": {},
     "output_type": "display_data"
    }
   ],
   "source": [
    "import matplotlib.pyplot as plt\n",
    "\n",
    "plt.plot(history.history['accuracy'], label='Train Acc')\n",
    "plt.plot(history.history['val_accuracy'], label='Val Acc')\n",
    "plt.xlabel('Epoch')\n",
    "plt.ylabel('Accuracy')\n",
    "plt.title('GRU Training Performance')\n",
    "plt.legend()\n",
    "plt.show()\n"
   ]
  }
 ],
 "metadata": {
  "kernelspec": {
   "display_name": "Python 3",
   "language": "python",
   "name": "python3"
  },
  "language_info": {
   "codemirror_mode": {
    "name": "ipython",
    "version": 3
   },
   "file_extension": ".py",
   "mimetype": "text/x-python",
   "name": "python",
   "nbconvert_exporter": "python",
   "pygments_lexer": "ipython3",
   "version": "3.12.2"
  }
 },
 "nbformat": 4,
 "nbformat_minor": 2
}
